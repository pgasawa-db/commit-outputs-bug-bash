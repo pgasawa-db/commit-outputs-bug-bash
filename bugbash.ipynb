{
 "cells": [
  {
   "cell_type": "code",
   "execution_count": 0,
   "metadata": {
    "application/vnd.databricks.v1+cell": {
     "cellMetadata": {
      "byteLimit": 2048000,
      "rowLimit": 10000
     },
     "inputWidgets": {},
     "nuid": "4b6520cb-91d5-44e9-8769-86c609965cbf",
     "showTitle": false,
     "title": ""
    }
   },
   "outputs": [],
   "source": [
    "import pandas as pd\n",
    "import numpy as np"
   ]
  },
  {
   "cell_type": "code",
   "execution_count": 0,
   "metadata": {
    "application/vnd.databricks.v1+cell": {
     "cellMetadata": {
      "byteLimit": 2048000,
      "rowLimit": 10000
     },
     "inputWidgets": {},
     "nuid": "94ef0698-9318-48b1-a30c-7fc74b06d239",
     "showTitle": false,
     "title": ""
    }
   },
   "outputs": [],
   "source": [
    "column1 = [\"Alice\", \"Bob\", \"Charlie\"]\n",
    "column2 = [10, 11, 12]\n",
    "\n",
    "df = pd.DataFrame({\"Name\": column1, \"Age\": column2})\n",
    "df.head()"
   ]
  }
 ],
 "metadata": {
  "application/vnd.databricks.v1+notebook": {
   "dashboards": [],
   "language": "python",
   "notebookMetadata": {
    "pythonIndentUnit": 2
   },
   "notebookName": "bugbash",
   "widgets": {}
  }
 },
 "nbformat": 4,
 "nbformat_minor": 0
}
